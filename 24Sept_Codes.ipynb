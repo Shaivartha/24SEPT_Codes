{
  "nbformat": 4,
  "nbformat_minor": 0,
  "metadata": {
    "colab": {
      "provenance": [],
      "mount_file_id": "1ruZgGqMzHl0W-BL8YldyffAJJ3YT2v9A",
      "authorship_tag": "ABX9TyPCntYURI9gcoIRm29b2y7m",
      "include_colab_link": true
    },
    "kernelspec": {
      "name": "python3",
      "display_name": "Python 3"
    },
    "language_info": {
      "name": "python"
    }
  },
  "cells": [
    {
      "cell_type": "markdown",
      "metadata": {
        "id": "view-in-github",
        "colab_type": "text"
      },
      "source": [
        "<a href=\"https://colab.research.google.com/github/Shaivartha/24SEPT_Codes/blob/main/24Sept_Codes.ipynb\" target=\"_parent\"><img src=\"https://colab.research.google.com/assets/colab-badge.svg\" alt=\"Open In Colab\"/></a>"
      ]
    },
    {
      "cell_type": "code",
      "execution_count": null,
      "metadata": {
        "colab": {
          "base_uri": "https://localhost:8080/"
        },
        "id": "xo38TI2aT5GU",
        "outputId": "7fd212a9-ebeb-4382-e26d-2caffe6c831f"
      },
      "outputs": [
        {
          "output_type": "stream",
          "name": "stdout",
          "text": [
            "After local Assingment test spam\n",
            "After nonlocal Assingment nonlocal spam\n",
            "After global Assingment nonlocal spam\n",
            "In global scope:  global spam\n",
            "global spam\n"
          ]
        }
      ],
      "source": [
        "# scope\n",
        "\n",
        "def scope_test():\n",
        "    def do_local():\n",
        "      spam = \"local spam\"\n",
        "    def do_nonlocal():\n",
        "      nonlocal spam\n",
        "      spam = \"nonlocal spam\"\n",
        "    def do_global():\n",
        "      global spam\n",
        "      spam = \"global spam\"\n",
        "\n",
        "    spam = \"test spam\"\n",
        "    do_local()\n",
        "    print(\"After local Assingment\", spam)\n",
        "    do_nonlocal()\n",
        "    print(\"After nonlocal Assingment\", spam)\n",
        "    do_global()\n",
        "    print(\"After global Assingment\", spam)\n",
        "\n",
        "scope_test()\n",
        "print(\"In global scope: \", spam)\n",
        "print(spam)"
      ]
    },
    {
      "cell_type": "code",
      "source": [
        "# fibonacci numbers module\n",
        "\n",
        "def fib(n):      # writes fibonacci series upto n\n",
        "  a, b = 0, 1\n",
        "  while a < n:\n",
        "    print(a, end=' ')\n",
        "    a, b = b, a+b\n",
        "  print()\n",
        "\n",
        "def fib2(n):     #return fibonacci series upto n\n",
        "  result = []\n",
        "  a, b = 0, 1\n",
        "  while a < n:\n",
        "    result.append(a)\n",
        "    a, b = b, a+b\n",
        "  return result"
      ],
      "metadata": {
        "id": "LdFxOP6WdH5b"
      },
      "execution_count": null,
      "outputs": []
    },
    {
      "cell_type": "code",
      "source": [
        "# module\n",
        "import fibo\n",
        "fibo.fib(1000)\n",
        "fibo.fib2(100)\n",
        "fibo.__name__"
      ],
      "metadata": {
        "colab": {
          "base_uri": "https://localhost:8080/",
          "height": 53
        },
        "id": "Z4pUCSngczXF",
        "outputId": "dff971de-ebbb-4b4c-f8c7-43163fc1198a"
      },
      "execution_count": 3,
      "outputs": [
        {
          "output_type": "stream",
          "name": "stdout",
          "text": [
            "0 1 1 2 3 5 8 13 21 34 55 89 144 233 377 610 987 \n"
          ]
        },
        {
          "output_type": "execute_result",
          "data": {
            "text/plain": [
              "'fibo'"
            ],
            "application/vnd.google.colaboratory.intrinsic+json": {
              "type": "string"
            }
          },
          "metadata": {},
          "execution_count": 3
        }
      ]
    }
  ]
}